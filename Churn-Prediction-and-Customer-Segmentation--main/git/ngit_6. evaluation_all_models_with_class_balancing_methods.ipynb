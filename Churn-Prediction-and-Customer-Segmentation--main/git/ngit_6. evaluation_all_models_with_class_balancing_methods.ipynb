{
 "cells": [
  {
   "cell_type": "code",
   "execution_count": null,
   "id": "eeca6906",
   "metadata": {},
   "outputs": [],
   "source": [
    "import os\n",
    "import numpy as np\n",
    "import pandas as pd"
   ]
  },
  {
   "cell_type": "markdown",
   "id": "6d880adc",
   "metadata": {},
   "source": [
    "### Root Directory and features to maximize and minimize for evaluation"
   ]
  },
  {
   "cell_type": "code",
   "execution_count": null,
   "id": "af9244f9",
   "metadata": {},
   "outputs": [],
   "source": [
    "# columns_max = ['train_accuracy', 'test_accuracy', 'roc_auc',\n",
    "#            'precision_0', 'recall_0', 'f1_0', \n",
    "#            'precision_1', 'recall_1', 'f1_1',\n",
    "#            'ks_stat','tp', 'tn']\n",
    "\n",
    "# columns_max = ['train_accuracy', 'test_accuracy', 'roc_auc', \n",
    "#                'f1_0', 'f1_1', 'ks_stat','tp', 'tn']\n",
    "\n",
    "# columns_max = ['tp', 'tn']\n",
    "\n",
    "columns_max = ['ks_stat', 'roc_auc']\n",
    "\n",
    "columns_min = [['fp'],['fn']]\n",
    "\n",
    "top_n = 1000\n",
    "\n",
    "# This header is used to store evaluation metrics to csv\n",
    "columns_name = ['method','k_neighbour', 'train_accuracy', 'test_accuracy', 'roc_auc',\n",
    "                'precision_0', 'recall_0', 'f1_0', \n",
    "                'precision_1', 'recall_1', 'f1_1',\n",
    "                'ks_stat', 'p_value', \n",
    "                'tp', 'tn', 'fp', 'fn']"
   ]
  },
  {
   "cell_type": "markdown",
   "id": "6fa19894",
   "metadata": {},
   "source": [
    "### Directory Info"
   ]
  },
  {
   "cell_type": "code",
   "execution_count": null,
   "id": "30d30496",
   "metadata": {},
   "outputs": [],
   "source": [
    "root_dir = \"../files/bos_models_evaluation/\"\n",
    "\n",
    "evaluation_files_loc = '../files/potential_models/'\n",
    "if not os.path.exists(evaluation_files_loc):\n",
    "    os.makedirs(evaluation_files_loc)"
   ]
  },
  {
   "cell_type": "markdown",
   "id": "e6e68235",
   "metadata": {},
   "source": [
    "# Function to search best value for k (neighbour) for each class balancing method"
   ]
  },
  {
   "cell_type": "code",
   "execution_count": null,
   "id": "007831a1",
   "metadata": {},
   "outputs": [],
   "source": [
    "def best_k_value(file_loc, top_n, columns_min):\n",
    "    df = pd.read_csv(file_loc)\n",
    "    all_col_top_rows = {}\n",
    "    \n",
    "    # Based on the columns present in columns_max, rows having maximum value for each column will be picked\n",
    "    for col in columns_max:\n",
    "        top_rows = df.sort_values(by=[col],ascending=False)[:top_n]['k_neighbour']\n",
    "        all_col_top_rows[col + '_top_rows'] = set(top_rows)\n",
    "\n",
    "    # Based on the columns present in columns_min, rows having minimum value for each column will be picked\n",
    "    for col in columns_min:\n",
    "        top_rows = df.sort_values(by=[col],ascending=True)[:top_n]['k_neighbour']\n",
    "        all_col_top_rows[col + '_top_rows'] = set(top_rows)\n",
    "\n",
    "    # Finding rows which are common in all the top_rows\n",
    "    common_rows = set()\n",
    "    for key,value in all_col_top_rows.items():\n",
    "        if len(common_rows) == 0:\n",
    "            common_rows = value\n",
    "        else:\n",
    "            common_rows = common_rows.intersection(value)\n",
    "    #     break\n",
    "    \n",
    "    top_rows = df[df['k_neighbour'].isin(common_rows)]\n",
    "    \n",
    "    \n",
    "    return top_rows.sort_values(by=['ks_stat'],ascending=True)"
   ]
  },
  {
   "cell_type": "markdown",
   "id": "75faa825",
   "metadata": {},
   "source": [
    "# Start Point"
   ]
  },
  {
   "cell_type": "code",
   "execution_count": null,
   "id": "c4706cd9",
   "metadata": {},
   "outputs": [],
   "source": [
    "model_training_approach = ['_num_data', '_num_cat_data', '_cat_as_cat_data']"
   ]
  },
  {
   "cell_type": "code",
   "execution_count": null,
   "id": "fdd0d597",
   "metadata": {},
   "outputs": [],
   "source": [
    "for training_approach in model_training_approach:\n",
    "    df = pd.DataFrame([], columns=columns_name)\n",
    "    best_rows_values = {}\n",
    "    for col_min in columns_min:\n",
    "        for file in sorted(os.listdir(root_dir)):\n",
    "\n",
    "            if file.find(training_approach) != -1:\n",
    "                approach = file.split('_')[1]\n",
    "                method_name = file.split('_')[2].upper()\n",
    "\n",
    "                best_rows = best_k_value(os.path.join(root_dir, file),top_n, col_min)\n",
    "                print(file, len(best_rows))\n",
    "\n",
    "                best_rows_values[method_name] = list(best_rows['k_neighbour'].values)\n",
    "\n",
    "                best_rows.insert(0,'method' ,[f'Approach_{approach}_{method_name}']* len(best_rows) )\n",
    "\n",
    "                df = pd.concat([df, best_rows[:1]])\n",
    "#     print(best_rows[:1].values)\n",
    "\n",
    "#     break\n",
    "    df = df[df.ks_stat>0.45].sort_values(by=['ks_stat'], ascending=False)\n",
    "    df.to_csv(os.path.join(evaluation_files_loc,{col_min[0]}_{training_approach[:-5]}.csv), header=True, index=False)"
   ]
  },
  {
   "cell_type": "code",
   "execution_count": null,
   "id": "7a2e6461",
   "metadata": {},
   "outputs": [],
   "source": []
  },
  {
   "cell_type": "code",
   "execution_count": null,
   "id": "fc951cd6",
   "metadata": {},
   "outputs": [],
   "source": []
  }
 ],
 "metadata": {
  "kernelspec": {
   "display_name": "Python 3 (ipykernel)",
   "language": "python",
   "name": "python3"
  },
  "language_info": {
   "codemirror_mode": {
    "name": "ipython",
    "version": 3
   },
   "file_extension": ".py",
   "mimetype": "text/x-python",
   "name": "python",
   "nbconvert_exporter": "python",
   "pygments_lexer": "ipython3",
   "version": "3.8.16"
  }
 },
 "nbformat": 4,
 "nbformat_minor": 5
}
