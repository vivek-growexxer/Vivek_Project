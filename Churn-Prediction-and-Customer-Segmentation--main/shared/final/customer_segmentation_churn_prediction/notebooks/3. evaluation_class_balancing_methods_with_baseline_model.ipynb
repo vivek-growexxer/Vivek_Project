{
 "cells": [
  {
   "cell_type": "code",
   "execution_count": null,
   "id": "eeca6906",
   "metadata": {},
   "outputs": [],
   "source": [
    "import os\n",
    "import numpy as np\n",
    "import pandas as pd"
   ]
  },
  {
   "cell_type": "markdown",
   "id": "6d880adc",
   "metadata": {},
   "source": [
    "### Root Directory and features to maximize and minimize for evaluation"
   ]
  },
  {
   "cell_type": "code",
   "execution_count": null,
   "id": "af9244f9",
   "metadata": {},
   "outputs": [],
   "source": [
    "columns_max = ['train_accuracy', 'test_accuracy', 'roc_auc',\n",
    "           'precision_0', 'recall_0', 'f1_0', \n",
    "           'precision_1', 'recall_1', 'f1_1',\n",
    "           'ks_stat','tp', 'tn']\n",
    "\n",
    "# columns_max = ['train_accuracy', 'test_accuracy', 'roc_auc', \n",
    "#                'f1_0', 'f1_1', 'ks_stat','tp', 'tn']\n",
    "\n",
    "# columns_max = ['tp', 'tn']\n",
    "\n",
    "columns_min = ['fp','fn']\n",
    "\n",
    "top_n = 1000\n",
    "\n",
    "# This header is used to store evaluation metrics to csv\n",
    "columns_name = ['method','k_neighbour', 'train_accuracy', 'test_accuracy', 'roc_auc',\n",
    "                'precision_0', 'recall_0', 'f1_0', \n",
    "                'precision_1', 'recall_1', 'f1_1',\n",
    "                'ks_stat', 'p_value', \n",
    "                'tp', 'tn', 'fp', 'fn']\n",
    "\n",
    "root_dir = \"./class_imbalance_methods_evaluations/\""
   ]
  },
  {
   "cell_type": "markdown",
   "id": "e6e68235",
   "metadata": {},
   "source": [
    "# Function to search best value for k (neighbour) for each class balancing method"
   ]
  },
  {
   "cell_type": "code",
   "execution_count": null,
   "id": "007831a1",
   "metadata": {},
   "outputs": [],
   "source": [
    "def best_k_value(file_loc, top_n):\n",
    "    df = pd.read_csv(file_loc)\n",
    "    all_col_top_rows = {}\n",
    "    \n",
    "    # Based on the columns present in columns_max, rows having maximum value for each column will be picked\n",
    "    for col in columns_max:\n",
    "        top_rows = df.sort_values(by=[col],ascending=False)[:top_n]['k_neighbour']\n",
    "        all_col_top_rows[col + '_top_rows'] = set(top_rows)\n",
    "\n",
    "    # Based on the columns present in columns_min, rows having minimum value for each column will be picked\n",
    "    for col in columns_min:\n",
    "        top_rows = df.sort_values(by=[col],ascending=True)[:top_n]['k_neighbour']\n",
    "        all_col_top_rows[col + '_top_rows'] = set(top_rows)\n",
    "\n",
    "    # Finding rows which are common in all the top_rows\n",
    "    common_rows = set()\n",
    "    for key,value in all_col_top_rows.items():\n",
    "        if len(common_rows) == 0:\n",
    "            common_rows = value\n",
    "        else:\n",
    "            common_rows = common_rows.intersection(value)\n",
    "    #     break\n",
    "    \n",
    "    top_rows = df[df['k_neighbour'].isin(common_rows)]\n",
    "    \n",
    "    \n",
    "    return top_rows.sort_values(by=['ks_stat'],ascending=True)"
   ]
  },
  {
   "cell_type": "markdown",
   "id": "75faa825",
   "metadata": {},
   "source": [
    "# Start Point"
   ]
  },
  {
   "cell_type": "code",
   "execution_count": null,
   "id": "8ea7c3e9",
   "metadata": {},
   "outputs": [],
   "source": [
    "df = pd.DataFrame([], columns=columns_name)\n",
    "\n",
    "best_rows_values = {}\n",
    "\n",
    "for file in sorted(os.listdir(root_dir)):\n",
    "\n",
    "    # Change value of file.split('_')[1] based on approach  i.e. [1,2]\n",
    "    if file[-3:] == 'csv' and file.split('_')[1] == '2':\n",
    "        approach = file.split('_')[1]\n",
    "        method_name = file.split('_')[2].upper()\n",
    "        \n",
    "        best_rows = best_k_value(os.path.join(root_dir, file),top_n)\n",
    "        print(file, len(best_rows))\n",
    "        \n",
    "        best_rows_values[method_name] = list(best_rows['k_neighbour'].values)\n",
    "        \n",
    "        best_rows.insert(0,'method' ,[f'Approach_{approach}_{method_name}']* len(best_rows) )\n",
    "        \n",
    "        df = pd.concat([df, best_rows[:1]])\n",
    "\n",
    "    #     break"
   ]
  },
  {
   "cell_type": "code",
   "execution_count": null,
   "id": "5cecab8a",
   "metadata": {},
   "outputs": [],
   "source": [
    "# Saving value of best value of k in numpy object.\n",
    "np.save(os.path.join(root_dir,'best_neighbour_values.npy'), best_rows_values)"
   ]
  }
 ],
 "metadata": {
  "kernelspec": {
   "display_name": "Python 3 (ipykernel)",
   "language": "python",
   "name": "python3"
  },
  "language_info": {
   "codemirror_mode": {
    "name": "ipython",
    "version": 3
   },
   "file_extension": ".py",
   "mimetype": "text/x-python",
   "name": "python",
   "nbconvert_exporter": "python",
   "pygments_lexer": "ipython3",
   "version": "3.8.16"
  }
 },
 "nbformat": 4,
 "nbformat_minor": 5
}
